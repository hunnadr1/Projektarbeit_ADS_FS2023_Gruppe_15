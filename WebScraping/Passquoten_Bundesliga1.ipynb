{
 "cells": [
  {
   "attachments": {},
   "cell_type": "markdown",
   "metadata": {},
   "source": [
    "### Imports"
   ]
  },
  {
   "cell_type": "code",
   "execution_count": 2,
   "metadata": {},
   "outputs": [],
   "source": [
    "import requests\n",
    "from bs4 import BeautifulSoup\n",
    "import psycopg2"
   ]
  },
  {
   "attachments": {},
   "cell_type": "markdown",
   "metadata": {},
   "source": [
    "### Connection Test"
   ]
  },
  {
   "cell_type": "code",
   "execution_count": 4,
   "metadata": {},
   "outputs": [],
   "source": [
    "url = 'https://www.bundesliga.com/de/bundesliga/statistiken/clubs/passquote'\n",
    "response = requests.get(url)\n",
    "\n",
    "# Prüfe, ob die Anfrage erfolgreich war (Statuscode 200)\n",
    "if response.status_code == 200:\n",
    "    soup = BeautifulSoup(response.text, 'html.parser')\n",
    "    \n",
    "    # Hier kannst du die relevanten Daten aus der Webseite extrahieren, z.B.:\n",
    "    results = soup.find_all('div', class_='result')\n",
    "    statistics = soup.find_all('div', class_='statistics')\n",
    "else:\n",
    "    print('Fehler beim Abrufen der Webseite')"
   ]
  },
  {
   "attachments": {},
   "cell_type": "markdown",
   "metadata": {},
   "source": [
    "### PostgreSQL"
   ]
  },
  {
   "cell_type": "code",
   "execution_count": null,
   "metadata": {},
   "outputs": [],
   "source": [
    "def connect_and_save_data(results, statistics):\n",
    "    try:\n",
    "        connection = psycopg2.connect(\n",
    "            dbname='your_database_name',\n",
    "            user='your_user',\n",
    "            password='your_password',\n",
    "            host='your_host',\n",
    "            port='your_port'\n",
    "                \n",
    "            host=\"localhost\",\n",
    "            database=\"PSQL_ADSFS2023Gruppe15\",\n",
    "            user=\"ADSFS2023Gruppe15\",\n",
    "            password=\"ADS_FS_2023_G15!?\"\n",
    "        )\n",
    "\n",
    "        cursor = connection.cursor()\n",
    "\n",
    "        # Erstelle die Tabelle, falls sie noch nicht existiert\n",
    "        create_table_query = '''\n",
    "            CREATE TABLE IF NOT EXISTS bundesliga_results (\n",
    "                id SERIAL PRIMARY KEY,\n",
    "                result TEXT NOT NULL,\n",
    "                statistics TEXT NOT NULL\n",
    "            );\n",
    "        '''\n",
    "        cursor.execute(create_table_query)\n",
    "        connection.commit()\n",
    "\n",
    "        # Füge die extrahierten Daten in die Tabelle ein\n",
    "        for result, statistic in zip(results, statistics):\n",
    "            insert_data_query = '''\n",
    "                INSERT INTO bundesliga_results (result, statistics) VALUES (%s, %s);\n",
    "            '''\n",
    "            cursor.execute(insert_data_query, (result.text, statistic.text))\n",
    "        \n",
    "        connection.commit()\n",
    "\n",
    "    except (Exception, psycopg2.Error) as error:\n",
    "        print('Fehler beim Verbinden mit der PostgreSQL-Datenbank:', error)\n",
    "    finally:\n",
    "        # Schließe die Verbindung\n",
    "        if connection:\n",
    "            cursor.close()\n",
    "            connection.close()\n",
    "\n",
    "# Führe die Funktion mit den extrahierten Daten aus\n",
    "connect_and_save_data(results, statistics)"
   ]
  }
 ],
 "metadata": {
  "kernelspec": {
   "display_name": "Python 3",
   "language": "python",
   "name": "python3"
  },
  "language_info": {
   "codemirror_mode": {
    "name": "ipython",
    "version": 3
   },
   "file_extension": ".py",
   "mimetype": "text/x-python",
   "name": "python",
   "nbconvert_exporter": "python",
   "pygments_lexer": "ipython3",
   "version": "3.11.0"
  },
  "orig_nbformat": 4,
  "vscode": {
   "interpreter": {
    "hash": "c261aea317cc0286b3b3261fbba9abdec21eaa57589985bb7a274bf54d6cc0a7"
   }
  }
 },
 "nbformat": 4,
 "nbformat_minor": 2
}
