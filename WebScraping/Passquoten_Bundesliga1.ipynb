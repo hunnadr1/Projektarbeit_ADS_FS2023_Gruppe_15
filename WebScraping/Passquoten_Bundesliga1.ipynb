{
 "cells": [
  {
   "attachments": {},
   "cell_type": "markdown",
   "metadata": {},
   "source": [
    "### Imports"
   ]
  },
  {
   "cell_type": "code",
   "execution_count": 2,
   "metadata": {},
   "outputs": [],
   "source": [
    "import requests\n",
    "from bs4 import BeautifulSoup\n",
    "import psycopg2"
   ]
  },
  {
   "attachments": {},
   "cell_type": "markdown",
   "metadata": {},
   "source": [
    "### Connection Test"
   ]
  },
  {
   "cell_type": "code",
   "execution_count": 11,
   "metadata": {},
   "outputs": [
    {
     "ename": "TypeError",
     "evalue": "'NoneType' object is not subscriptable",
     "output_type": "error",
     "traceback": [
      "\u001b[1;31m---------------------------------------------------------------------------\u001b[0m",
      "\u001b[1;31mTypeError\u001b[0m                                 Traceback (most recent call last)",
      "Cell \u001b[1;32mIn[11], line 16\u001b[0m\n\u001b[0;32m     14\u001b[0m elements \u001b[39m=\u001b[39m soup\u001b[39m.\u001b[39mfind_all(\u001b[39m'\u001b[39m\u001b[39mdiv\u001b[39m\u001b[39m'\u001b[39m,  class_\u001b[39m=\u001b[39m\u001b[39m'\u001b[39m\u001b[39mteam-name-list\u001b[39m\u001b[39m'\u001b[39m)\n\u001b[0;32m     15\u001b[0m element \u001b[39m=\u001b[39m soup\u001b[39m.\u001b[39mfind(\u001b[39m'\u001b[39m\u001b[39mdiv\u001b[39m\u001b[39m'\u001b[39m, \u001b[39mid\u001b[39m\u001b[39m=\u001b[39m\u001b[39m'\u001b[39m\u001b[39mtd\u001b[39m\u001b[39m'\u001b[39m)\n\u001b[1;32m---> 16\u001b[0m attribute_value \u001b[39m=\u001b[39m element[\u001b[39m'\u001b[39;49m\u001b[39ma\u001b[39;49m\u001b[39m'\u001b[39;49m]\n\u001b[0;32m     17\u001b[0m nested_elements \u001b[39m=\u001b[39m element\u001b[39m.\u001b[39mfind_all(\u001b[39m'\u001b[39m\u001b[39mspan\u001b[39m\u001b[39m'\u001b[39m, class_\u001b[39m=\u001b[39m\u001b[39m'\u001b[39m\u001b[39mnested-class\u001b[39m\u001b[39m'\u001b[39m)\n",
      "\u001b[1;31mTypeError\u001b[0m: 'NoneType' object is not subscriptable"
     ]
    }
   ],
   "source": [
    "url = 'https://www.ran.de/fussball/bundesliga/bundesliga-statistiken'\n",
    "response = requests.get(url)\n",
    "\n",
    "# Prüfen, ob die Anfrage erfolgreich war (Statuscode 200)\n",
    "if response.status_code == 200:\n",
    "    soup = BeautifulSoup(response.text, 'html.parser')\n",
    "    \n",
    "    # relevante Daten aus der Webseite extrahieren:\n",
    "    results = soup.find_all('div', class_='Mannschaft')\n",
    "    statistics = soup.find_all('div', class_='Passquote')\n",
    "else:\n",
    "    print('Fehler beim Abrufen der Webseite')\n",
    "    \n",
    "elements = soup.find_all('div',  class_='team-name-list')\n",
    "element = soup.find('div', id='td')\n",
    "attribute_value = element['a']\n",
    "nested_elements = element.find_all('span', class_='nested-class')"
   ]
  },
  {
   "attachments": {},
   "cell_type": "markdown",
   "metadata": {},
   "source": [
    "### PostgreSQL"
   ]
  },
  {
   "cell_type": "code",
   "execution_count": null,
   "metadata": {},
   "outputs": [],
   "source": [
    "#Verbinden mit der DB\n",
    "def connect_and_save_data(results, statistics):\n",
    "    try:\n",
    "        connection = psycopg2.connect(           \n",
    "            dbname=\"PSQL_ADSFS2023Gruppe15\",\n",
    "            user=\"ADSFS2023Gruppe15\",\n",
    "            password=\"ADS_FS_2023_G15!?\"\n",
    "            host=\"localhost\",\n",
    "            ports='5432:5432'\n",
    "        )\n",
    "\n",
    "        cursor = connection.cursor()\n",
    "\n",
    "        # Erstellen der Tabelle für die Passquoten\n",
    "        create_table_query = '''\n",
    "            CREATE TABLE IF NOT EXISTS bundesliga_passquoten (\n",
    "                Mannschafts_ID INTEGER,\n",
    "                Mannschaft TEXT,\n",
    "                Passquote INTEGER\n",
    "                Datum DATE\n",
    "            );\n",
    "        '''\n",
    "        cursor.execute(create_table_query)\n",
    "        connection.commit()\n",
    "\n",
    "        # Einfügen der extrahierten Daten in die Tabelle\n",
    "        for result, statistic in zip(results, statistics):\n",
    "            insert_data_query = '''\n",
    "                INSERT INTO bundesliga_results (Mannschaft, Passquote, Datm) VALUES (%s, %s, sysdate);\n",
    "            '''\n",
    "            cursor.execute(insert_data_query, (Mannschaft.text, Passquote.text))\n",
    "        \n",
    "        connection.commit()\n",
    "\n",
    "    except (Exception, psycopg2.Error) as error:\n",
    "        print('Fehler beim Verbinden mit der PostgreSQL-Datenbank:', error)\n",
    "    finally:\n",
    "        # Schließe die Verbindung\n",
    "        if connection:\n",
    "            cursor.close()\n",
    "            connection.close()\n",
    "\n",
    "# Führe die Funktion mit den extrahierten Daten aus\n",
    "connect_and_save_data(results, statistics)"
   ]
  }
 ],
 "metadata": {
  "kernelspec": {
   "display_name": "Python 3",
   "language": "python",
   "name": "python3"
  },
  "language_info": {
   "codemirror_mode": {
    "name": "ipython",
    "version": 3
   },
   "file_extension": ".py",
   "mimetype": "text/x-python",
   "name": "python",
   "nbconvert_exporter": "python",
   "pygments_lexer": "ipython3",
   "version": "3.11.0"
  },
  "orig_nbformat": 4,
  "vscode": {
   "interpreter": {
    "hash": "c261aea317cc0286b3b3261fbba9abdec21eaa57589985bb7a274bf54d6cc0a7"
   }
  }
 },
 "nbformat": 4,
 "nbformat_minor": 2
}
